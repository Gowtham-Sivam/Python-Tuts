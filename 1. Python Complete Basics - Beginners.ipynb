{
 "cells": [
  {
   "cell_type": "markdown",
   "id": "446ff0e7-e961-4c4a-b491-ec3e27491857",
   "metadata": {},
   "source": [
    "### Python - Part 1 "
   ]
  },
  {
   "cell_type": "code",
   "execution_count": 1,
   "id": "6e88da31-0573-4474-9cdf-c8caac273684",
   "metadata": {},
   "outputs": [
    {
     "name": "stdout",
     "output_type": "stream",
     "text": [
      "Hello, World!\n"
     ]
    }
   ],
   "source": [
    "print(\"Hello, World!\")"
   ]
  },
  {
   "cell_type": "code",
   "execution_count": 7,
   "id": "7d375c55-8021-406c-a8dd-a621e42ab2d2",
   "metadata": {},
   "outputs": [
    {
     "name": "stdout",
     "output_type": "stream",
     "text": [
      "Python 3.9.2\n"
     ]
    }
   ],
   "source": [
    "# version check\n",
    "!python --version"
   ]
  },
  {
   "cell_type": "code",
   "execution_count": 8,
   "id": "ee41528f-782b-49b0-9209-715483ce48d8",
   "metadata": {},
   "outputs": [
    {
     "data": {
      "text/plain": [
       "int"
      ]
     },
     "execution_count": 8,
     "metadata": {},
     "output_type": "execute_result"
    }
   ],
   "source": [
    "b = 10 \n",
    "type(b)"
   ]
  },
  {
   "cell_type": "code",
   "execution_count": 14,
   "id": "328473fb-f535-4d33-98e7-3c25b841ee76",
   "metadata": {},
   "outputs": [
    {
     "name": "stdout",
     "output_type": "stream",
     "text": [
      "<class 'list'>\n",
      "<class 'tuple'>\n"
     ]
    }
   ],
   "source": [
    "# Simple Declarations\n",
    "a = [10,11] \n",
    "print(type(a)) # list\n",
    "a = (10,232)\n",
    "print(type(a)) # tuple"
   ]
  },
  {
   "cell_type": "code",
   "execution_count": 20,
   "id": "91ef3879-a3e8-49fe-801c-17b30980d8cd",
   "metadata": {},
   "outputs": [
    {
     "name": "stdout",
     "output_type": "stream",
     "text": [
      "<class 'int'>\n",
      "3.0\n"
     ]
    }
   ],
   "source": [
    "# Type casting the number\n",
    "num = 3 \n",
    "print(type(num))\n",
    "print(float(num))"
   ]
  },
  {
   "cell_type": "code",
   "execution_count": 66,
   "id": "0136ba6a-eaa5-41d5-b896-5cb93893b35d",
   "metadata": {},
   "outputs": [
    {
     "name": "stdout",
     "output_type": "stream",
     "text": [
      "<class 'str'>\n",
      "<class 'str'>\n"
     ]
    }
   ],
   "source": [
    "#  Declare strings with different quotes\n",
    "x = 'Python'\n",
    "print(type(x))\n",
    "x = \"Python\"\n",
    "print(type(x))"
   ]
  },
  {
   "cell_type": "markdown",
   "id": "6fd35391-1a21-4ce2-b3a8-6ac376702ef2",
   "metadata": {},
   "source": [
    "### Variables "
   ]
  },
  {
   "cell_type": "code",
   "execution_count": 25,
   "id": "93237849-cd02-4e90-9154-1219de6f8b3e",
   "metadata": {},
   "outputs": [
    {
     "data": {
      "text/plain": [
       "5"
      ]
     },
     "execution_count": 25,
     "metadata": {},
     "output_type": "execute_result"
    }
   ],
   "source": [
    "# variable naming convention 1 \n",
    "_a = 5 \n",
    "_a"
   ]
  },
  {
   "cell_type": "code",
   "execution_count": 26,
   "id": "2cf0cfec-de6f-456c-97f1-a4327ac8af2d",
   "metadata": {},
   "outputs": [
    {
     "data": {
      "text/plain": [
       "342"
      ]
     },
     "execution_count": 26,
     "metadata": {},
     "output_type": "execute_result"
    }
   ],
   "source": [
    "# variable naming convention 2 \n",
    "numInt = 342\n",
    "numInt"
   ]
  },
  {
   "cell_type": "code",
   "execution_count": 29,
   "id": "cca52bc1-5853-4fdb-a35d-e9861bd8a077",
   "metadata": {},
   "outputs": [
    {
     "ename": "SyntaxError",
     "evalue": "cannot assign to operator (2286145030.py, line 2)",
     "output_type": "error",
     "traceback": [
      "\u001b[1;36m  Cell \u001b[1;32mIn[29], line 2\u001b[1;36m\u001b[0m\n\u001b[1;33m    num-integer = 5\u001b[0m\n\u001b[1;37m    ^\u001b[0m\n\u001b[1;31mSyntaxError\u001b[0m\u001b[1;31m:\u001b[0m cannot assign to operator\n"
     ]
    }
   ],
   "source": [
    "# variable naming convention 2 / Wrong\n",
    "num-integer = 5 \n",
    "num-integer"
   ]
  },
  {
   "cell_type": "code",
   "execution_count": 30,
   "id": "9ead7d88-e856-4d77-9dc4-d55b9a7bf201",
   "metadata": {},
   "outputs": [],
   "source": [
    "# Camel Case -> First Character of a word is Capital except the first word \n",
    "myNumberCamelCase = 10\n",
    "# Pascal Case -> All words starts with capital letter\n",
    "MyNumberCamelCase = 10\n",
    "# Snake Case -> Words are seperated by _\n",
    "User_Name = \"Gowtham\""
   ]
  },
  {
   "cell_type": "code",
   "execution_count": 33,
   "id": "1f395c1e-3171-4848-9d7d-146ba9d845a9",
   "metadata": {},
   "outputs": [
    {
     "name": "stdout",
     "output_type": "stream",
     "text": [
      "Gowtham\n",
      "Sivam\n",
      "Chennai\n"
     ]
    }
   ],
   "source": [
    "# Multiple variables \n",
    "firstName, lastName, city = \"Gowtham\", \"Sivam\", \"Chennai\"\n",
    "print(firstName)\n",
    "print(lastName)\n",
    "print(city)\n",
    "# Find which Case is used here to define the variables "
   ]
  },
  {
   "cell_type": "code",
   "execution_count": 38,
   "id": "cedca5d9-b0a7-4a2a-9582-b94b11496967",
   "metadata": {},
   "outputs": [
    {
     "name": "stdout",
     "output_type": "stream",
     "text": [
      "Gowtham Sivam\n",
      "Gowtham Sivam\n",
      "Gowtham Sivam\n"
     ]
    }
   ],
   "source": [
    "# same value to multiple variables \n",
    "firstName = lastName = city = \"Gowtham Sivam\" \n",
    "print(firstName)\n",
    "print(lastName)\n",
    "print(city)"
   ]
  },
  {
   "cell_type": "code",
   "execution_count": 39,
   "id": "52e68b6d-3e15-4e65-ac02-caddd346d065",
   "metadata": {},
   "outputs": [
    {
     "name": "stdout",
     "output_type": "stream",
     "text": [
      "Gowtham\n",
      "Sivam\n",
      "Chennai\n"
     ]
    }
   ],
   "source": [
    "# Pick correct values for variables from the list \n",
    "personMetadata = [\"Gowtham\", \"Sivam\", \"Chennai\"]\n",
    "firstName, lastName, city = personMetadata\n",
    "print(firstName)\n",
    "print(lastName)\n",
    "print(city)"
   ]
  },
  {
   "cell_type": "code",
   "execution_count": 42,
   "id": "59b69425-d88b-48e7-a269-c16bca4c132c",
   "metadata": {},
   "outputs": [
    {
     "data": {
      "text/plain": [
       "\"I'm working in a Good Company \\n and the AI team is really interesting.\""
      ]
     },
     "execution_count": 42,
     "metadata": {},
     "output_type": "execute_result"
    }
   ],
   "source": [
    "# printing vs simple looking at what the variable holds. \n",
    "Details  = \"I'm working in a Good Company \\n and the AI team is really interesting.\"\n",
    "Details"
   ]
  },
  {
   "cell_type": "code",
   "execution_count": 44,
   "id": "4b18846f-fd16-4f9e-a7ff-9f6935a200b0",
   "metadata": {},
   "outputs": [
    {
     "name": "stdout",
     "output_type": "stream",
     "text": [
      "I'm working in a Good Company \n",
      " and the AI team is really interesting.\n"
     ]
    }
   ],
   "source": [
    "#look how this prints the data\n",
    "print(Details)"
   ]
  },
  {
   "cell_type": "code",
   "execution_count": 49,
   "id": "06fbf461-852c-482e-b274-02037b772565",
   "metadata": {},
   "outputs": [
    {
     "name": "stdout",
     "output_type": "stream",
     "text": [
      "15\n"
     ]
    }
   ],
   "source": [
    "# Simple Addition\n",
    "a = 5 \n",
    "b = 10\n",
    "print(a + b)"
   ]
  },
  {
   "cell_type": "code",
   "execution_count": 52,
   "id": "5674622f-e9e6-4ec9-859e-51f456f1ccb4",
   "metadata": {},
   "outputs": [
    {
     "ename": "TypeError",
     "evalue": "unsupported operand type(s) for +: 'int' and 'str'",
     "output_type": "error",
     "traceback": [
      "\u001b[1;31m---------------------------------------------------------------------------\u001b[0m",
      "\u001b[1;31mTypeError\u001b[0m                                 Traceback (most recent call last)",
      "Cell \u001b[1;32mIn[52], line 4\u001b[0m\n\u001b[0;32m      2\u001b[0m a \u001b[38;5;241m=\u001b[39m \u001b[38;5;241m5\u001b[39m \n\u001b[0;32m      3\u001b[0m b \u001b[38;5;241m=\u001b[39m \u001b[38;5;124m\"\u001b[39m\u001b[38;5;124mSubscribe to My channel\u001b[39m\u001b[38;5;124m\"\u001b[39m\n\u001b[1;32m----> 4\u001b[0m \u001b[38;5;28mprint\u001b[39m(\u001b[43ma\u001b[49m\u001b[43m \u001b[49m\u001b[38;5;241;43m+\u001b[39;49m\u001b[43m \u001b[49m\u001b[43mb\u001b[49m)\n",
      "\u001b[1;31mTypeError\u001b[0m: unsupported operand type(s) for +: 'int' and 'str'"
     ]
    }
   ],
   "source": [
    "# addition of 2 different types\n",
    "a = 5 \n",
    "b = \"Subscribe to My channel\"\n",
    "print(a + b)"
   ]
  },
  {
   "cell_type": "code",
   "execution_count": 53,
   "id": "5381dad7-babf-40c8-bea4-358908614d51",
   "metadata": {},
   "outputs": [
    {
     "name": "stdout",
     "output_type": "stream",
     "text": [
      "5Subscribe to My channel\n"
     ]
    }
   ],
   "source": [
    "# type casting a to see what happens \n",
    "a = str(5) \n",
    "b = \"Subscribe to My channel\"\n",
    "print(a + b)"
   ]
  },
  {
   "cell_type": "code",
   "execution_count": 61,
   "id": "39d299c3-c755-4144-a24f-f9dcbc1833f8",
   "metadata": {},
   "outputs": [
    {
     "name": "stdout",
     "output_type": "stream",
     "text": [
      "I'm Vijay\n",
      "I'm Gowtham\n"
     ]
    }
   ],
   "source": [
    "# Global Variables understanding \n",
    "Name = \"Gowtham\"\n",
    "\n",
    "def myfunc(): \n",
    "  Name = \"Vijay\" # defined here inside the function\n",
    "  print(\"I'm \"  + Name)\n",
    "\n",
    "myfunc()\n",
    "\n",
    "print(\"I'm \" + Name)"
   ]
  },
  {
   "cell_type": "code",
   "execution_count": 65,
   "id": "ece96f71-b08d-4987-be28-c6bfe2af6468",
   "metadata": {},
   "outputs": [
    {
     "name": "stdout",
     "output_type": "stream",
     "text": [
      "His name is Dinesh\n"
     ]
    }
   ],
   "source": [
    "#usage of global keyword\n",
    "def myfunc():\n",
    "  global friendName\n",
    "  friendName = \"Dinesh\"\n",
    "\n",
    "myfunc()\n",
    "\n",
    "print(\"His name is \" + friendName)"
   ]
  },
  {
   "cell_type": "markdown",
   "id": "b39dc8b9-e4d5-4738-b0ab-410d92ffecaf",
   "metadata": {},
   "source": [
    "### Data Types"
   ]
  },
  {
   "cell_type": "markdown",
   "id": "36b428aa-ad8c-4d0c-b817-55ff4f4063e8",
   "metadata": {},
   "source": [
    "- **Text Type:** `str`\n",
    "- **Numeric Types:** `int`, `float`, `complex`\n",
    "- **Sequence Types:** `list`, `tuple`, `range`\n",
    "- **Mapping Type:** `dict`\n",
    "- **Set Types:** `set`, `frozenset`\n",
    "- **Boolean Type:** `bool`\n",
    "- **Binary Types:** `bytes`, `bytearray`, `memoryview`\n",
    "- **None Type:** `NoneType`\n"
   ]
  },
  {
   "cell_type": "code",
   "execution_count": 74,
   "id": "bf71aa7e-14bf-466e-9705-dcc0561ad961",
   "metadata": {},
   "outputs": [
    {
     "name": "stdout",
     "output_type": "stream",
     "text": [
      "Hello, World!\n"
     ]
    }
   ],
   "source": [
    "# Sample code for string -> Immutable\n",
    "my_string = \"Hello, World!\"\n",
    "print(my_string)  # Output: Hello, World!"
   ]
  },
  {
   "cell_type": "code",
   "execution_count": 69,
   "id": "0bd94683-609f-4e7e-95bb-2db308ffb8db",
   "metadata": {},
   "outputs": [
    {
     "name": "stdout",
     "output_type": "stream",
     "text": [
      "10\n",
      "3.14\n",
      "(2+3j)\n"
     ]
    }
   ],
   "source": [
    "# Sample code for numeric types\n",
    "my_int = 10\n",
    "my_float = 3.14\n",
    "my_complex = 2 + 3j\n",
    "\n",
    "print(my_int)      # Output: 10\n",
    "print(my_float)    # Output: 3.14\n",
    "print(my_complex)  # Output: (2+3j)\n"
   ]
  },
  {
   "cell_type": "code",
   "execution_count": 88,
   "id": "de216419-0cda-4a60-91e1-4eb809449877",
   "metadata": {},
   "outputs": [
    {
     "name": "stdout",
     "output_type": "stream",
     "text": [
      "[1, 2, 3, 4, 5]\n",
      "(1, 2, 3, 4, 5)\n",
      "[0, 2, 4, 6, 8]\n"
     ]
    }
   ],
   "source": [
    "# sequence types\n",
    "my_list = [1, 2, 3, 4, 5] # Mutable\n",
    "my_tuple = (1, 2, 3, 4, 5) # Immutable\n",
    "my_range = range(0, 10, 2)\n",
    "\n",
    "print(my_list)    # Output: [1, 2, 3, 4, 5]\n",
    "print(my_tuple)   # Output: (1, 2, 3, 4, 5)\n",
    "print(list(my_range))  # Output: [0, 2, 4, 6, 8]\n"
   ]
  },
  {
   "cell_type": "code",
   "execution_count": 89,
   "id": "7b4aa98d-1b6f-4f52-9c57-9f79d6739b6b",
   "metadata": {},
   "outputs": [
    {
     "name": "stdout",
     "output_type": "stream",
     "text": [
      "Gowtham\n",
      "23\n",
      "Chennai\n"
     ]
    }
   ],
   "source": [
    "# unordered collections of key-value pairs. \n",
    "# Keys are unique and immutable, and values can be of any data type.\n",
    "my_dict = {'name': 'Gowtham', 'age': 23, 'city': 'Chennai'}\n",
    "\n",
    "print(my_dict['name'])  # Output: John\n",
    "print(my_dict['age'])   # Output: 30\n",
    "print(my_dict['city'])  # Output: New York\n"
   ]
  },
  {
   "cell_type": "code",
   "execution_count": 90,
   "id": "949aa368-9ad7-4af3-acc1-5279ac1d4340",
   "metadata": {},
   "outputs": [
    {
     "name": "stdout",
     "output_type": "stream",
     "text": [
      "{1, 2, 3, 4, 5}\n",
      "frozenset({1, 2, 3, 4, 5})\n"
     ]
    }
   ],
   "source": [
    "# unordered collections of unique elements -> Mutable\n",
    "# Frozen Sets -> Immutable \n",
    "my_set = {1, 2, 3, 4, 5,5 }\n",
    "my_frozenset = frozenset({1, 2, 3, 4, 5, 5 })\n",
    "\n",
    "print(my_set)          # Output: {1, 2, 3, 4, 5}\n",
    "print(my_frozenset)    # Output: frozenset({1, 2, 3, 4, 5})\n"
   ]
  },
  {
   "cell_type": "code",
   "execution_count": 91,
   "id": "445d3bdc-cc3e-4198-830f-7e07d2dd5824",
   "metadata": {},
   "outputs": [
    {
     "name": "stdout",
     "output_type": "stream",
     "text": [
      "True\n",
      "False\n"
     ]
    }
   ],
   "source": [
    "#  boolean type\n",
    "boolT = True\n",
    "boolF = False\n",
    "\n",
    "print(boolT)    # Output: True\n",
    "print(boolF)  # Output: False"
   ]
  },
  {
   "cell_type": "code",
   "execution_count": 92,
   "id": "88d86e6f-3568-4ab7-b518-1b972b0f1345",
   "metadata": {},
   "outputs": [
    {
     "name": "stdout",
     "output_type": "stream",
     "text": [
      "b'Hello'\n",
      "bytearray(b'Hello')\n",
      "<memory at 0x0000026F588F3B80>\n"
     ]
    }
   ],
   "source": [
    "# Binary types represent sequences of bytes. \n",
    "# Bytes are immutable, while bytearray is mutable.\n",
    "# Memoryview provides a view on memory allowing you to operate on the underlying bytes.\n",
    "my_bytes = b'Hello'\n",
    "my_bytearray = bytearray(b'Hello')\n",
    "my_memoryview = memoryview(b'Hello')\n",
    "\n",
    "print(my_bytes)       # Output: b'Hello'\n",
    "print(my_bytearray)   # Output: bytearray(b'Hello')\n",
    "print(my_memoryview)  # Output: <memory at 0x7fbd65b7e040>\n"
   ]
  },
  {
   "cell_type": "code",
   "execution_count": 93,
   "id": "a8f7c2eb-9b05-4dcc-8bad-5b59046cd4ec",
   "metadata": {},
   "outputs": [
    {
     "name": "stdout",
     "output_type": "stream",
     "text": [
      "None\n"
     ]
    }
   ],
   "source": [
    "# NoneType\n",
    "my_none = None\n",
    "\n",
    "print(my_none)  # Output: None\n"
   ]
  },
  {
   "cell_type": "code",
   "execution_count": 128,
   "id": "f5a14f32-8a3a-48b5-addb-abd7a435f66c",
   "metadata": {},
   "outputs": [
    {
     "name": "stdout",
     "output_type": "stream",
     "text": [
      "66\n"
     ]
    }
   ],
   "source": [
    "# Random Module to print random numbers\n",
    "import random\n",
    "print(random.randrange(1, 200))"
   ]
  },
  {
   "cell_type": "code",
   "execution_count": 129,
   "id": "e42ece4f-57cb-4a01-b6d1-c225c66d2096",
   "metadata": {},
   "outputs": [
    {
     "name": "stdout",
     "output_type": "stream",
     "text": [
      "154\n"
     ]
    }
   ],
   "source": [
    "print(random.randrange(1, 200))"
   ]
  },
  {
   "cell_type": "code",
   "execution_count": 130,
   "id": "dee1edc8-0093-4e27-a89d-551321c4488f",
   "metadata": {},
   "outputs": [
    {
     "name": "stdout",
     "output_type": "stream",
     "text": [
      "168\n"
     ]
    }
   ],
   "source": [
    "print(random.randrange(1, 200))"
   ]
  },
  {
   "cell_type": "markdown",
   "id": "f7c642b5-910d-452b-88df-38ff6e0ed3d9",
   "metadata": {},
   "source": [
    "### Strings "
   ]
  },
  {
   "cell_type": "code",
   "execution_count": 131,
   "id": "2af5fd24-dcc5-4ab5-a9e8-c28058727416",
   "metadata": {},
   "outputs": [
    {
     "name": "stdout",
     "output_type": "stream",
     "text": [
      "My Name is Gowtham\n"
     ]
    }
   ],
   "source": [
    "# Strings \n",
    "Details = \"My Name is Gowtham\"\n",
    "print(Details)"
   ]
  },
  {
   "cell_type": "code",
   "execution_count": 133,
   "id": "f79ae582-ef93-4b35-a195-beeb5276eeb2",
   "metadata": {},
   "outputs": [
    {
     "name": "stdout",
     "output_type": "stream",
     "text": [
      "Hey hello how are you what \n",
      "have you been doing where do you work\n"
     ]
    }
   ],
   "source": [
    "# Multiline Strings \n",
    "Details = \"\"\"Hey hello how are you what \n",
    "have you been doing where do you work\"\"\"\n",
    "print(Details)"
   ]
  },
  {
   "cell_type": "code",
   "execution_count": 134,
   "id": "17b4ff72-893e-4956-a87d-f2d72965d064",
   "metadata": {},
   "outputs": [
    {
     "data": {
      "text/plain": [
       "'Hey h'"
      ]
     },
     "execution_count": 134,
     "metadata": {},
     "output_type": "execute_result"
    }
   ],
   "source": [
    "#index a string \n",
    "Details[0:5]"
   ]
  },
  {
   "cell_type": "code",
   "execution_count": 135,
   "id": "6961f9bb-9c10-419b-8f71-c8aafeac2fd6",
   "metadata": {},
   "outputs": [
    {
     "name": "stdout",
     "output_type": "stream",
     "text": [
      "65\n"
     ]
    }
   ],
   "source": [
    "print(len(Details))"
   ]
  },
  {
   "cell_type": "code",
   "execution_count": 141,
   "id": "9ced4dc1-450f-4282-b24e-9c19a2ee2612",
   "metadata": {},
   "outputs": [
    {
     "name": "stdout",
     "output_type": "stream",
     "text": [
      "Yes it has Hey\n"
     ]
    }
   ],
   "source": [
    "#in keyword\n",
    "if 'Hey' in Details:\n",
    "    print(\"Yes it has Hey\")"
   ]
  },
  {
   "cell_type": "code",
   "execution_count": 142,
   "id": "43615132-d4fe-491c-bc21-8a7a3c4f493f",
   "metadata": {},
   "outputs": [
    {
     "name": "stdout",
     "output_type": "stream",
     "text": [
      "Hey exists\n"
     ]
    }
   ],
   "source": [
    "# not in keyword\n",
    "if 'Hey' not in Details:\n",
    "    print(\"Yes it has Hey\")\n",
    "else: \n",
    "    print(\"Hey exists\")\n",
    "    "
   ]
  },
  {
   "cell_type": "code",
   "execution_count": 143,
   "id": "181c9729-3c2c-43cb-91c5-5492935bd735",
   "metadata": {},
   "outputs": [
    {
     "name": "stdout",
     "output_type": "stream",
     "text": [
      "HEY HELLO HOW ARE YOU WHAT \n",
      "HAVE YOU BEEN DOING WHERE DO YOU WORK\n"
     ]
    }
   ],
   "source": [
    "# upper \n",
    "print(Details.upper())"
   ]
  },
  {
   "cell_type": "code",
   "execution_count": 144,
   "id": "d7cf40d3-71cf-44af-bf47-da751dcba099",
   "metadata": {},
   "outputs": [
    {
     "name": "stdout",
     "output_type": "stream",
     "text": [
      "hey hello how are you what \n",
      "have you been doing where do you work\n"
     ]
    }
   ],
   "source": [
    "# lower\n",
    "print(Details.lower())"
   ]
  },
  {
   "cell_type": "code",
   "execution_count": 150,
   "id": "292ac2ec-c36e-4c6f-8a6c-7b88f8166374",
   "metadata": {},
   "outputs": [
    {
     "name": "stdout",
     "output_type": "stream",
     "text": [
      "Hello, World!\n"
     ]
    }
   ],
   "source": [
    "simp = \" Hello, World! \"\n",
    "print(simp.strip()) "
   ]
  },
  {
   "cell_type": "code",
   "execution_count": 151,
   "id": "a6dde26a-a350-4f53-830f-a8721770a9b6",
   "metadata": {},
   "outputs": [
    {
     "name": "stdout",
     "output_type": "stream",
     "text": [
      " Jello, World! \n"
     ]
    }
   ],
   "source": [
    "print(simp.replace(\"H\", \"J\"))"
   ]
  },
  {
   "cell_type": "code",
   "execution_count": 152,
   "id": "3396c2ed-aba6-4550-a9a6-7c86539450d8",
   "metadata": {},
   "outputs": [
    {
     "name": "stdout",
     "output_type": "stream",
     "text": [
      "[' Hello', ' World! ']\n"
     ]
    }
   ],
   "source": [
    "print(simp.split(\",\"))"
   ]
  },
  {
   "cell_type": "code",
   "execution_count": 158,
   "id": "dd26fe17-a413-4b38-a73b-5d4c1eccc43c",
   "metadata": {},
   "outputs": [
    {
     "name": "stdout",
     "output_type": "stream",
     "text": [
      "Gowtham Sivam\n"
     ]
    }
   ],
   "source": [
    "# concatenate\n",
    "firstName = \"Gowtham\"\n",
    "lastName = \"Sivam\"\n",
    "print(firstName + ' ' + lastName)"
   ]
  },
  {
   "cell_type": "code",
   "execution_count": 159,
   "id": "493b175e-1140-45fb-88a7-ec227560720f",
   "metadata": {},
   "outputs": [
    {
     "name": "stdout",
     "output_type": "stream",
     "text": [
      "My name is Gowtham, and I am 23\n"
     ]
    }
   ],
   "source": [
    "# format\n",
    "age = 23\n",
    "txt = \"My name is Gowtham, and I am {}\"\n",
    "print(txt.format(age))"
   ]
  },
  {
   "cell_type": "code",
   "execution_count": 164,
   "id": "e8b15a4a-5c5c-4dec-9f10-7b6635def0ba",
   "metadata": {},
   "outputs": [
    {
     "name": "stdout",
     "output_type": "stream",
     "text": [
      "Hello, my name is Gowtham. I am 23 years old and work as a SDE.\n"
     ]
    }
   ],
   "source": [
    "# FORMAT WITH MULTIPLE PARAMS\n",
    "name = \"Gowtham\"\n",
    "age = 23\n",
    "occupation = \"SDE\"\n",
    "bio = \"Hello, my name is {}. I am {} years old and work as a {}.\"\n",
    "print(bio.format(name, age, occupation))\n"
   ]
  },
  {
   "cell_type": "code",
   "execution_count": 165,
   "id": "84ffd631-c6ac-439c-8cca-d05b313a4f9e",
   "metadata": {},
   "outputs": [
    {
     "name": "stdout",
     "output_type": "stream",
     "text": [
      "Hello, my name is Gowtham. I am 23 years old and work as a SDE.\n"
     ]
    }
   ],
   "source": [
    "# added indexing in the format \n",
    "name = \"Gowtham\"\n",
    "age = 23\n",
    "occupation = \"SDE\"\n",
    "bio = \"Hello, my name is {0}. I am {1} years old and work as a {2}.\"\n",
    "print(bio.format(name, age, occupation))\n"
   ]
  },
  {
   "cell_type": "code",
   "execution_count": 170,
   "id": "3733de25-8c79-450f-94f6-f5f8ae371bd3",
   "metadata": {},
   "outputs": [
    {
     "name": "stdout",
     "output_type": "stream",
     "text": [
      "Chennai Wins the IPL Trophy in the year 2024\n",
      "Chennai Wins the \"IPL Trophy\" in the year 2024\n"
     ]
    }
   ],
   "source": [
    "# Adding a word in the string in between\n",
    "T20_IPL = \"Chennai Wins the IPL Trophy in the year 2024\"\n",
    "print(T20_IPL)\n",
    "T20_IPL = \"Chennai Wins the \\\"IPL Trophy\\\" in the year 2024\"\n",
    "print(T20_IPL)"
   ]
  },
  {
   "cell_type": "markdown",
   "id": "8588e21a-05ce-4c7d-baa7-27513dc252a9",
   "metadata": {},
   "source": [
    "### Boolean"
   ]
  },
  {
   "cell_type": "code",
   "execution_count": 172,
   "id": "6e442d04-3a00-4f66-80cf-46bfcfb22946",
   "metadata": {},
   "outputs": [
    {
     "name": "stdout",
     "output_type": "stream",
     "text": [
      "YES, it's even!\n"
     ]
    }
   ],
   "source": [
    "# A function can return true / false\n",
    "def is_even(number):\n",
    "    return number % 2 == 0\n",
    "\n",
    "if is_even(4):\n",
    "    print(\"YES, it's even!\")\n",
    "else:\n",
    "    print(\"NO, it's odd!\")\n"
   ]
  },
  {
   "cell_type": "code",
   "execution_count": 174,
   "id": "30f0aa20-cfa7-4049-8861-49986190c622",
   "metadata": {},
   "outputs": [
    {
     "name": "stdout",
     "output_type": "stream",
     "text": [
      "True\n"
     ]
    }
   ],
   "source": [
    "#check the data type of an object\n",
    "x = 200\n",
    "print(isinstance(x, int))"
   ]
  },
  {
   "cell_type": "code",
   "execution_count": 175,
   "id": "ae6f246a-9d31-46ab-8580-6483c36dcfbb",
   "metadata": {},
   "outputs": [
    {
     "name": "stdout",
     "output_type": "stream",
     "text": [
      "False\n"
     ]
    }
   ],
   "source": [
    "print(isinstance(x, str))"
   ]
  },
  {
   "cell_type": "markdown",
   "id": "696a4444-f362-45bb-bae6-a23afffff966",
   "metadata": {},
   "source": [
    "### Operators\n",
    "- Arithmetic operators\n",
    "- Assignment operators\n",
    "- Comparison operators\n",
    "- Logical operators\n",
    "- Identity operators\n",
    "- Membership operators\n",
    "- Bitwise operators"
   ]
  },
  {
   "cell_type": "code",
   "execution_count": 177,
   "id": "4792ab9f-ec02-43fe-bb64-ea4336400507",
   "metadata": {},
   "outputs": [
    {
     "name": "stdout",
     "output_type": "stream",
     "text": [
      "Addition: 15\n",
      "Subtraction: 5\n",
      "Multiplication: 50\n",
      "Division: 2.0\n",
      "Floor Division: 2\n",
      "Modulus: 0\n",
      "Exponentiation: 100000\n"
     ]
    }
   ],
   "source": [
    "# Arithmetic operators\n",
    "a = 10\n",
    "b = 5\n",
    "\n",
    "# Addition\n",
    "addition = a + b\n",
    "print(\"Addition:\", addition)\n",
    "\n",
    "# Subtraction\n",
    "subtraction = a - b\n",
    "print(\"Subtraction:\", subtraction)\n",
    "\n",
    "# Multiplication\n",
    "multiplication = a * b\n",
    "print(\"Multiplication:\", multiplication)\n",
    "\n",
    "# Division\n",
    "division = a / b\n",
    "print(\"Division:\", division)\n",
    "\n",
    "# Floor Division\n",
    "floor_division = a // b\n",
    "print(\"Floor Division:\", floor_division)\n",
    "\n",
    "# Modulus\n",
    "modulus = a % b\n",
    "print(\"Modulus:\", modulus)\n",
    "\n",
    "# Exponentiation\n",
    "exponentiation = a ** b\n",
    "print(\"Exponentiation:\", exponentiation)\n"
   ]
  },
  {
   "cell_type": "code",
   "execution_count": 178,
   "id": "223059eb-a0f5-4275-af9c-9f3d2c1421d9",
   "metadata": {},
   "outputs": [
    {
     "name": "stdout",
     "output_type": "stream",
     "text": [
      "Addition assignment: 15\n",
      "Subtraction assignment: 10\n",
      "Multiplication assignment: 50\n",
      "Division assignment: 10.0\n",
      "Floor Division assignment: 2.0\n",
      "Modulus assignment: 2.0\n",
      "Exponentiation assignment: 32.0\n"
     ]
    }
   ],
   "source": [
    "# Assignment operators\n",
    "x = 10\n",
    "y = 5\n",
    "\n",
    "# Addition assignment\n",
    "x += y  # Equivalent to: x = x + y\n",
    "print(\"Addition assignment:\", x)\n",
    "\n",
    "# Subtraction assignment\n",
    "x -= y  # Equivalent to: x = x - y\n",
    "print(\"Subtraction assignment:\", x)\n",
    "\n",
    "# Multiplication assignment\n",
    "x *= y  # Equivalent to: x = x * y\n",
    "print(\"Multiplication assignment:\", x)\n",
    "\n",
    "# Division assignment\n",
    "x /= y  # Equivalent to: x = x / y\n",
    "print(\"Division assignment:\", x)\n",
    "\n",
    "# Floor Division assignment\n",
    "x //= y  # Equivalent to: x = x // y\n",
    "print(\"Floor Division assignment:\", x)\n",
    "\n",
    "# Modulus assignment\n",
    "x %= y  # Equivalent to: x = x % y\n",
    "print(\"Modulus assignment:\", x)\n",
    "\n",
    "# Exponentiation assignment\n",
    "x **= y  # Equivalent to: x = x ** y\n",
    "print(\"Exponentiation assignment:\", x)\n"
   ]
  },
  {
   "cell_type": "code",
   "execution_count": 179,
   "id": "9bed32d8-c46b-436d-b94a-364d9a4b6fef",
   "metadata": {},
   "outputs": [
    {
     "name": "stdout",
     "output_type": "stream",
     "text": [
      "Equal to: False\n",
      "Not equal to: True\n",
      "Greater than: True\n",
      "Less than: False\n",
      "Greater than or equal to: True\n",
      "Less than or equal to: False\n"
     ]
    }
   ],
   "source": [
    "# Comparison operators\n",
    "x = 10\n",
    "y = 5\n",
    "\n",
    "# Equal to\n",
    "print(\"Equal to:\", x == y)\n",
    "\n",
    "# Not equal to\n",
    "print(\"Not equal to:\", x != y)\n",
    "\n",
    "# Greater than\n",
    "print(\"Greater than:\", x > y)\n",
    "\n",
    "# Less than\n",
    "print(\"Less than:\", x < y)\n",
    "\n",
    "# Greater than or equal to\n",
    "print(\"Greater than or equal to:\", x >= y)\n",
    "\n",
    "# Less than or equal to\n",
    "print(\"Less than or equal to:\", x <= y)\n"
   ]
  },
  {
   "cell_type": "code",
   "execution_count": 180,
   "id": "1232ac71-7368-486e-9564-8d71abd69a13",
   "metadata": {},
   "outputs": [
    {
     "name": "stdout",
     "output_type": "stream",
     "text": [
      "AND operator: True\n",
      "OR operator: True\n",
      "NOT operator: True\n"
     ]
    }
   ],
   "source": [
    "# Logical operators\n",
    "x = 10\n",
    "y = 5\n",
    "z = 15\n",
    "\n",
    "# AND operator\n",
    "print(\"AND operator:\", x > y and y < z)\n",
    "\n",
    "# OR operator\n",
    "print(\"OR operator:\", x > y or y > z)\n",
    "\n",
    "# NOT operator\n",
    "print(\"NOT operator:\", not(x == y))\n"
   ]
  },
  {
   "cell_type": "code",
   "execution_count": 181,
   "id": "0bbcfdb0-3a1a-42a1-ac21-68c59427e396",
   "metadata": {},
   "outputs": [
    {
     "name": "stdout",
     "output_type": "stream",
     "text": [
      "is operator: False\n",
      "is operator with z: True\n",
      "is not operator: True\n",
      "is not operator with z: False\n"
     ]
    }
   ],
   "source": [
    "# Identity operators\n",
    "x = [1, 2, 3]\n",
    "y = [1, 2, 3]\n",
    "z = x\n",
    "\n",
    "# is operator\n",
    "print(\"is operator:\", x is y)\n",
    "print(\"is operator with z:\", x is z)\n",
    "\n",
    "# is not operator\n",
    "print(\"is not operator:\", x is not y)\n",
    "print(\"is not operator with z:\", x is not z)\n"
   ]
  },
  {
   "cell_type": "code",
   "execution_count": 182,
   "id": "d0c23021-2348-45b2-a9bf-dafc101f69fc",
   "metadata": {},
   "outputs": [
    {
     "name": "stdout",
     "output_type": "stream",
     "text": [
      "in operator: True\n",
      "not in operator: True\n"
     ]
    }
   ],
   "source": [
    "# Membership operators\n",
    "my_list = [1, 2, 3, 4, 5]\n",
    "\n",
    "# in operator\n",
    "print(\"in operator:\", 3 in my_list)\n",
    "print(\"not in operator:\", 6 not in my_list)\n"
   ]
  },
  {
   "cell_type": "code",
   "execution_count": 183,
   "id": "00ca4f65-0a0a-4e0c-8ade-e52b0b5f79ed",
   "metadata": {},
   "outputs": [
    {
     "name": "stdout",
     "output_type": "stream",
     "text": [
      "Bitwise AND: 0\n",
      "Bitwise OR: 15\n",
      "Bitwise XOR: 15\n",
      "Bitwise NOT for x: -11\n",
      "Bitwise left shift for x: 20\n",
      "Bitwise right shift for y: 2\n"
     ]
    }
   ],
   "source": [
    "# Bitwise operators\n",
    "x = 10  # Binary: 1010\n",
    "y = 5   # Binary: 0101\n",
    "\n",
    "# Bitwise AND\n",
    "print(\"Bitwise AND:\", x & y)\n",
    "\n",
    "# Bitwise OR\n",
    "print(\"Bitwise OR:\", x | y)\n",
    "\n",
    "# Bitwise XOR\n",
    "print(\"Bitwise XOR:\", x ^ y)\n",
    "\n",
    "# Bitwise NOT\n",
    "print(\"Bitwise NOT for x:\", ~x)\n",
    "\n",
    "# Bitwise left shift\n",
    "print(\"Bitwise left shift for x:\", x << 1)\n",
    "\n",
    "# Bitwise right shift\n",
    "print(\"Bitwise right shift for y:\", y >> 1)\n"
   ]
  },
  {
   "cell_type": "markdown",
   "id": "e2aef0ca-2ff7-4627-ac93-08f9244a1212",
   "metadata": {},
   "source": [
    "### List"
   ]
  },
  {
   "cell_type": "code",
   "execution_count": 185,
   "id": "39d201b3-a7fa-40d9-a22d-a3d8c70a1d47",
   "metadata": {},
   "outputs": [
    {
     "name": "stdout",
     "output_type": "stream",
     "text": [
      "Stars in the collection: ['Sirius', 'Betelgeuse', 'Proxima Centauri', 'Antares', 'Vega']\n"
     ]
    }
   ],
   "source": [
    "# Create a list\n",
    "star_collection = [\"Sirius\", \"Betelgeuse\", \"Proxima Centauri\", \"Antares\", \"Vega\"]\n",
    "\n",
    "# Print the list\n",
    "print(\"Stars in the collection:\", star_collection)"
   ]
  },
  {
   "cell_type": "code",
   "execution_count": 186,
   "id": "ca7b1283-4be1-449b-af6c-190495da9ba4",
   "metadata": {},
   "outputs": [
    {
     "name": "stdout",
     "output_type": "stream",
     "text": [
      "First star: Sirius\n",
      "Last star: Vega\n"
     ]
    }
   ],
   "source": [
    "# Accessing elements\n",
    "first_star = star_collection[0]\n",
    "last_star = star_collection[-1]\n",
    "\n",
    "print(\"First star:\", first_star)\n",
    "print(\"Last star:\", last_star)"
   ]
  },
  {
   "cell_type": "code",
   "execution_count": 187,
   "id": "16770a88-840e-4953-b971-8957af9d014d",
   "metadata": {},
   "outputs": [
    {
     "name": "stdout",
     "output_type": "stream",
     "text": [
      "Middle stars: ['Betelgeuse', 'Proxima Centauri', 'Antares']\n"
     ]
    }
   ],
   "source": [
    "# Slicing the list\n",
    "middle_stars = star_collection[1:4]\n",
    "print(\"Middle stars:\", middle_stars)"
   ]
  },
  {
   "cell_type": "code",
   "execution_count": 188,
   "id": "d95e2f1e-ca0e-4097-b0ac-6b63901ac51f",
   "metadata": {},
   "outputs": [
    {
     "name": "stdout",
     "output_type": "stream",
     "text": [
      "Updated star collection: ['Sirius', 'Betelgeuse', 'Alpha Centauri', 'Antares', 'Vega']\n"
     ]
    }
   ],
   "source": [
    "# Updating elements\n",
    "star_collection[2] = \"Alpha Centauri\"\n",
    "print(\"Updated star collection:\", star_collection)"
   ]
  },
  {
   "cell_type": "code",
   "execution_count": 189,
   "id": "31c23d38-93ac-46e2-8f7b-f5713ad3d185",
   "metadata": {},
   "outputs": [
    {
     "name": "stdout",
     "output_type": "stream",
     "text": [
      "Star collection after adding Polaris: ['Sirius', 'Betelgeuse', 'Alpha Centauri', 'Antares', 'Vega', 'Polaris']\n",
      "Removed star: Antares\n",
      "Star collection after removing: ['Sirius', 'Betelgeuse', 'Alpha Centauri', 'Vega', 'Polaris']\n"
     ]
    }
   ],
   "source": [
    "# Adding elements\n",
    "star_collection.append(\"Polaris\")\n",
    "print(\"Star collection after adding Polaris:\", star_collection)\n",
    "\n",
    "# Removing elements\n",
    "removed_star = star_collection.pop(3)\n",
    "print(\"Removed star:\", removed_star)\n",
    "print(\"Star collection after removing:\", star_collection)"
   ]
  },
  {
   "cell_type": "code",
   "execution_count": 190,
   "id": "bc12083c-dcb7-4c5b-803a-b95cdf08499e",
   "metadata": {},
   "outputs": [
    {
     "name": "stdout",
     "output_type": "stream",
     "text": [
      "Number of stars in the collection: 5\n",
      "Sorted star collection: ['Alpha Centauri', 'Betelgeuse', 'Polaris', 'Sirius', 'Vega']\n",
      "Reversed star collection: ['Vega', 'Sirius', 'Polaris', 'Betelgeuse', 'Alpha Centauri']\n",
      "Cleared star collection: []\n"
     ]
    }
   ],
   "source": [
    "# Length of the list\n",
    "num_stars = len(star_collection)\n",
    "print(\"Number of stars in the collection:\", num_stars)\n",
    "\n",
    "# Sorting the list\n",
    "star_collection.sort()\n",
    "print(\"Sorted star collection:\", star_collection)\n",
    "\n",
    "# Reversing the list\n",
    "star_collection.reverse()\n",
    "print(\"Reversed star collection:\", star_collection)\n",
    "\n",
    "# Clearing the list\n",
    "star_collection.clear()\n",
    "print(\"Cleared star collection:\", star_collection)\n"
   ]
  },
  {
   "cell_type": "code",
   "execution_count": 195,
   "id": "5eea8b16-78d1-404b-ab7f-5a526b314cad",
   "metadata": {},
   "outputs": [
    {
     "name": "stdout",
     "output_type": "stream",
     "text": [
      "Gowtham\n",
      "Dinesh\n",
      "Vijay\n",
      "------------------\n",
      "Gowtham\n",
      "Dinesh\n",
      "Vijay\n"
     ]
    }
   ],
   "source": [
    "# iterate a list \n",
    "names = ['Gowtham', 'Dinesh', 'Vijay']\n",
    "for i in names:\n",
    "    print(i)\n",
    "print('------------------')\n",
    "for i in range(len(names)):\n",
    "    print(names[i])"
   ]
  },
  {
   "cell_type": "code",
   "execution_count": 203,
   "id": "7a334f7d-683e-4c9b-8540-10141f6994cd",
   "metadata": {},
   "outputs": [
    {
     "name": "stdout",
     "output_type": "stream",
     "text": [
      "['Dinesh', 'Vijay']\n"
     ]
    }
   ],
   "source": [
    "#Before  List comprehension\n",
    "names = ['Gowtham', 'Dinesh', 'Vijay']\n",
    "i_names = []\n",
    "for i in names:\n",
    "    if 'i' in i:\n",
    "        i_names.append(i)\n",
    "print(i_names)"
   ]
  },
  {
   "cell_type": "code",
   "execution_count": 205,
   "id": "6901ce13-c3fc-415c-a165-21751fd2abac",
   "metadata": {},
   "outputs": [
    {
     "data": {
      "text/plain": [
       "['Dinesh', 'Vijay']"
      ]
     },
     "execution_count": 205,
     "metadata": {},
     "output_type": "execute_result"
    }
   ],
   "source": [
    "#After List comprehension \n",
    "names = ['Gowtham', 'Dinesh', 'Vijay']\n",
    "i_names = [name for name in names if 'i' in name] # simple list comprehension\n",
    "i_names"
   ]
  },
  {
   "cell_type": "code",
   "execution_count": 208,
   "id": "7253c29f-b979-41ff-987f-2057e04ad59d",
   "metadata": {},
   "outputs": [
    {
     "data": {
      "text/plain": [
       "[0, 1, 2, 3, 4, 5, 6, 7, 8, 9]"
      ]
     },
     "execution_count": 208,
     "metadata": {},
     "output_type": "execute_result"
    }
   ],
   "source": [
    "# Simple list comprehension\n",
    "newlist = [x for x in range(10)]\n",
    "newlist"
   ]
  },
  {
   "cell_type": "code",
   "execution_count": 211,
   "id": "51ee5b72-9af6-4ff2-8817-dfdab61f39f8",
   "metadata": {},
   "outputs": [
    {
     "data": {
      "text/plain": [
       "[9, 8, 7, 6, 5, 4, 3, 2, 1, 0]"
      ]
     },
     "execution_count": 211,
     "metadata": {},
     "output_type": "execute_result"
    }
   ],
   "source": [
    "# Sort the list reverse \n",
    "newlist.sort(reverse=True)\n",
    "newlist"
   ]
  },
  {
   "cell_type": "code",
   "execution_count": 216,
   "id": "0d546289-9326-4471-80b9-c3f807dd366e",
   "metadata": {},
   "outputs": [
    {
     "data": {
      "text/plain": [
       "[9, 8, 7, 6, 5, 4, 3, 2, 1, 0]"
      ]
     },
     "execution_count": 216,
     "metadata": {},
     "output_type": "execute_result"
    }
   ],
   "source": [
    "#copy the list\n",
    "anotherlist = newlist.copy()\n",
    "anotherlist"
   ]
  },
  {
   "cell_type": "markdown",
   "id": "6272f80a-3d60-4b7b-90eb-a33e2c202e27",
   "metadata": {},
   "source": [
    "### Tuple"
   ]
  },
  {
   "cell_type": "code",
   "execution_count": 218,
   "id": "deb53b0a-16cd-4634-90ed-d65e8e49e3a8",
   "metadata": {},
   "outputs": [
    {
     "name": "stdout",
     "output_type": "stream",
     "text": [
      "First element: 1\n",
      "Last element: 5\n"
     ]
    }
   ],
   "source": [
    "# Creating a tuple\n",
    "my_tuple = (1, 2, 3, 4, 5)\n",
    "\n",
    "# Accessing elements of a tuple\n",
    "first_element = my_tuple[0]\n",
    "last_element = my_tuple[-1] # see the indexing here\n",
    "\n",
    "print(\"First element:\", first_element)\n",
    "print(\"Last element:\", last_element)"
   ]
  },
  {
   "cell_type": "code",
   "execution_count": 219,
   "id": "a93b7c0c-27d3-43e2-843f-b41721a5757f",
   "metadata": {},
   "outputs": [
    {
     "data": {
      "text/plain": [
       "(2, 3, 4)"
      ]
     },
     "execution_count": 219,
     "metadata": {},
     "output_type": "execute_result"
    }
   ],
   "source": [
    "# Slicing a tuple\n",
    "my_tuple[1:4]"
   ]
  },
  {
   "cell_type": "code",
   "execution_count": 220,
   "id": "32feb875-4e34-44c3-a270-6918c4f5f89e",
   "metadata": {},
   "outputs": [
    {
     "name": "stdout",
     "output_type": "stream",
     "text": [
      "Packed tuple: (1, 2, 3)\n",
      "Unpacked values - a: 1 , b: 2 , c: 3\n"
     ]
    }
   ],
   "source": [
    "# Tuple packing\n",
    "packed_tuple = 1, 2, 3\n",
    "print(\"Packed tuple:\", packed_tuple)\n",
    "\n",
    "# Tuple unpacking\n",
    "a, b, c = packed_tuple\n",
    "print(\"Unpacked values - a:\", a, \", b:\", b, \", c:\", c)\n"
   ]
  },
  {
   "cell_type": "code",
   "execution_count": 223,
   "id": "0fb30b00-667b-429e-886b-2b9453eb4347",
   "metadata": {},
   "outputs": [
    {
     "name": "stdout",
     "output_type": "stream",
     "text": [
      "Length of the tuple: 5\n",
      "Concatenated tuple: (1, 2, 3, 4, 5, 1, 2, 3)\n",
      "Occurrences of 3 in the tuple: 1\n",
      "Index of 4 in the tuple: 3\n"
     ]
    }
   ],
   "source": [
    "# Immutability of tuples\n",
    "# Attempting to modify a tuple will raise an error\n",
    "\n",
    "my_tuple = (1, 2, 3, 4, 5)\n",
    "\n",
    "# my_tuple[0] = 10  # Uncommenting this line will raise an error\n",
    "\n",
    "# Tuple length\n",
    "tuple_length = len(my_tuple)\n",
    "print(\"Length of the tuple:\", tuple_length)\n",
    "\n",
    "# Tuple concatenation\n",
    "concatenated_tuple = my_tuple + packed_tuple\n",
    "print(\"Concatenated tuple:\", concatenated_tuple)\n",
    "\n",
    "# Count occurrences of a value in a tuple\n",
    "count_occurrences = my_tuple.count(3)\n",
    "print(\"Occurrences of 3 in the tuple:\", count_occurrences)\n",
    "\n",
    "# Find the index of a value in a tuple\n",
    "index_value = my_tuple.index(4)\n",
    "print(\"Index of 4 in the tuple:\", index_value)\n"
   ]
  },
  {
   "cell_type": "code",
   "execution_count": 226,
   "id": "d96b5ec0-a997-4f99-970b-71363530f17d",
   "metadata": {},
   "outputs": [
    {
     "name": "stdout",
     "output_type": "stream",
     "text": [
      "<class 'str'>\n"
     ]
    }
   ],
   "source": [
    "# Tuple and data type\n",
    "names = ('Vijay')\n",
    "print(type(names))"
   ]
  },
  {
   "cell_type": "code",
   "execution_count": 227,
   "id": "43b39abb-f2f3-4899-bdf6-b5108ef3c2d2",
   "metadata": {},
   "outputs": [
    {
     "name": "stdout",
     "output_type": "stream",
     "text": [
      "<class 'tuple'>\n"
     ]
    }
   ],
   "source": [
    "names = ('Vijay',)\n",
    "print(type(names))"
   ]
  },
  {
   "cell_type": "code",
   "execution_count": 228,
   "id": "441f1b7d-aa39-41c5-9545-7344e5bb07de",
   "metadata": {},
   "outputs": [
    {
     "name": "stdout",
     "output_type": "stream",
     "text": [
      "First city: New York\n",
      "Middle cities: ['Los Angeles', 'Chicago', 'Houston', 'Phoenix', 'Philadelphia']\n",
      "Last city: San Antonio\n"
     ]
    }
   ],
   "source": [
    "# Tuple unpacking with * operator\n",
    "cities = (\"New York\", \"Los Angeles\", \"Chicago\", \"Houston\", \"Phoenix\", \"Philadelphia\", \"San Antonio\")\n",
    "\n",
    "(first_city, *middle_cities, last_city) = cities\n",
    "\n",
    "print(\"First city:\", first_city)\n",
    "print(\"Middle cities:\", middle_cities)\n",
    "print(\"Last city:\", last_city)\n"
   ]
  },
  {
   "cell_type": "markdown",
   "id": "16a6416d-f4e9-465a-bcf6-742b5b95732c",
   "metadata": {},
   "source": [
    "### Sets"
   ]
  },
  {
   "cell_type": "code",
   "execution_count": 231,
   "id": "266ee4b5-bfec-4773-829f-4f2a5c7ad4f7",
   "metadata": {},
   "outputs": [
    {
     "name": "stdout",
     "output_type": "stream",
     "text": [
      "Set: {1, 2, 3, 4, 5}\n",
      "Another set: {1, 2, 3, 4, 5}\n"
     ]
    }
   ],
   "source": [
    "# No Duplicates\n",
    "# Creating a set\n",
    "my_set = {1, 2, 3, 4, 5,5}\n",
    "print(\"Set:\", my_set)\n",
    "\n",
    "# Creating a set using set() constructor\n",
    "another_set = set([1, 2, 2, 3, 4, 4, 5])\n",
    "print(\"Another set:\", another_set)\n"
   ]
  },
  {
   "cell_type": "code",
   "execution_count": 232,
   "id": "a98c6241-7ed1-452b-8b13-06ea1ce982ba",
   "metadata": {},
   "outputs": [
    {
     "name": "stdout",
     "output_type": "stream",
     "text": [
      "Union: {1, 2, 3, 4, 5, 6}\n",
      "Intersection: {3, 4}\n",
      "Difference: {1, 2}\n",
      "Symmetric Difference: {1, 2, 5, 6}\n"
     ]
    }
   ],
   "source": [
    "# Set operations\n",
    "set1 = {1, 2, 3, 4}\n",
    "set2 = {3, 4, 5, 6}\n",
    "\n",
    "# Union\n",
    "union_set = set1 | set2\n",
    "print(\"Union:\", union_set)\n",
    "\n",
    "# Intersection\n",
    "intersection_set = set1 & set2\n",
    "print(\"Intersection:\", intersection_set)\n",
    "\n",
    "# Difference\n",
    "difference_set = set1 - set2\n",
    "print(\"Difference:\", difference_set)\n",
    "\n",
    "# Symmetric Difference\n",
    "symmetric_difference_set = set1 ^ set2\n",
    "print(\"Symmetric Difference:\", symmetric_difference_set)\n"
   ]
  },
  {
   "cell_type": "code",
   "execution_count": 233,
   "id": "ff439065-a982-44fd-b2a1-b720c5ed94fd",
   "metadata": {},
   "outputs": [
    {
     "name": "stdout",
     "output_type": "stream",
     "text": [
      "After adding 6: {1, 2, 3, 4, 5, 6}\n",
      "After removing 3: {1, 2, 4, 5, 6}\n"
     ]
    }
   ],
   "source": [
    "# Modifying a set\n",
    "my_set.add(6)\n",
    "print(\"After adding 6:\", my_set)\n",
    "\n",
    "my_set.remove(3)\n",
    "print(\"After removing 3:\", my_set)\n"
   ]
  },
  {
   "cell_type": "markdown",
   "id": "967882fe-9d72-4e7e-9824-f6d3ca505b3b",
   "metadata": {},
   "source": [
    "#### Dict"
   ]
  },
  {
   "cell_type": "code",
   "execution_count": 240,
   "id": "d82e3ba4-ec2d-4188-ab12-37c4c6c0f35e",
   "metadata": {},
   "outputs": [
    {
     "name": "stdout",
     "output_type": "stream",
     "text": [
      "Dictionary: {'name': 'Gowtham', 'age': 23, 'city': 'Chennai'}\n",
      "Another dictionary: {'name': 'Gowtham', 'age': 23, 'city': 'Chennai'}\n"
     ]
    }
   ],
   "source": [
    "# Creating a dictionary\n",
    "my_dict = {'name': 'Gowtham', 'age': 23, 'city': 'Chennai'}\n",
    "print(\"Dictionary:\", my_dict)\n",
    "\n",
    "# Creating a dictionary using dict() constructor\n",
    "another_dict = dict(name='Gowtham', age=23, city='Chennai')\n",
    "print(\"Another dictionary:\", another_dict)\n"
   ]
  },
  {
   "cell_type": "code",
   "execution_count": 241,
   "id": "ea6be4e8-cd90-4cb3-a330-2d62f6a43268",
   "metadata": {},
   "outputs": [
    {
     "data": {
      "text/plain": [
       "'Gowtham'"
      ]
     },
     "execution_count": 241,
     "metadata": {},
     "output_type": "execute_result"
    }
   ],
   "source": [
    "# accessing the value\n",
    "my_dict['name']"
   ]
  },
  {
   "cell_type": "code",
   "execution_count": 242,
   "id": "03e1af5d-d1a4-48b2-b43f-ae6357b0f19c",
   "metadata": {},
   "outputs": [
    {
     "name": "stdout",
     "output_type": "stream",
     "text": [
      "Modified dictionary: {'name': 'Gowtham', 'age': 23, 'city': 'Bangalore'}\n",
      "After adding job: {'name': 'Gowtham', 'age': 23, 'city': 'Bangalore', 'job': 'Engineer'}\n",
      "After deleting age: {'name': 'Gowtham', 'city': 'Bangalore', 'job': 'Engineer'}\n"
     ]
    }
   ],
   "source": [
    "# Modifying a dictionary\n",
    "my_dict['city'] = 'Bangalore'\n",
    "print(\"Modified dictionary:\", my_dict)\n",
    "\n",
    "my_dict['job'] = 'Engineer'\n",
    "print(\"After adding job:\", my_dict)\n",
    "\n",
    "# deleting\n",
    "del my_dict['age']\n",
    "print(\"After deleting age:\", my_dict)\n"
   ]
  },
  {
   "cell_type": "code",
   "execution_count": 243,
   "id": "8bf41adf-8977-4aad-b3f2-494e51610b9e",
   "metadata": {},
   "outputs": [
    {
     "name": "stdout",
     "output_type": "stream",
     "text": [
      "Keys: dict_keys(['name', 'city', 'job'])\n",
      "Values: dict_values(['Gowtham', 'Bangalore', 'Engineer'])\n",
      "Items: dict_items([('name', 'Gowtham'), ('city', 'Bangalore'), ('job', 'Engineer')])\n"
     ]
    }
   ],
   "source": [
    "# Dictionary methods\n",
    "print(\"Keys:\", my_dict.keys())\n",
    "print(\"Values:\", my_dict.values())\n",
    "print(\"Items:\", my_dict.items())\n"
   ]
  },
  {
   "cell_type": "code",
   "execution_count": 244,
   "id": "0cab83b9-59b5-4389-a936-da573333a1e6",
   "metadata": {},
   "outputs": [
    {
     "name": "stdout",
     "output_type": "stream",
     "text": [
      "Key: name Value: Gowtham\n",
      "Key: city Value: Bangalore\n",
      "Key: job Value: Engineer\n",
      "Key: name Value: Gowtham\n",
      "Key: city Value: Bangalore\n",
      "Key: job Value: Engineer\n"
     ]
    }
   ],
   "source": [
    "# Iterating through a dictionary\n",
    "for key in my_dict:\n",
    "    print(\"Key:\", key, \"Value:\", my_dict[key])\n",
    "\n",
    "for key, value in my_dict.items():\n",
    "    print(\"Key:\", key, \"Value:\", value)\n"
   ]
  },
  {
   "cell_type": "code",
   "execution_count": 245,
   "id": "2492cd4f-3517-41c0-b5ea-94b8e9395a7e",
   "metadata": {},
   "outputs": [
    {
     "name": "stdout",
     "output_type": "stream",
     "text": [
      "John's age: 30\n",
      "Alice's department: Engineering\n",
      "Modified nested dictionary: {'John': {'age': 30, 'department': 'HR'}, 'Alice': {'age': 25, 'department': 'Engineering', 'salary': 5000}, 'Bob': {'age': 40, 'department': 'Marketing'}}\n"
     ]
    }
   ],
   "source": [
    "### Nested Dictionaries\n",
    "# Creating a nested dictionary\n",
    "employee = {\n",
    "    'John': {'age': 30, 'department': 'HR'},\n",
    "    'Alice': {'age': 25, 'department': 'Engineering'},\n",
    "    'Bob': {'age': 35, 'department': 'Marketing'}\n",
    "}\n",
    "\n",
    "# Accessing values in nested dictionary\n",
    "print(\"John's age:\", employee['John']['age'])\n",
    "print(\"Alice's department:\", employee['Alice']['department'])\n",
    "\n",
    "# Modifying nested dictionary\n",
    "employee['Bob']['age'] = 40\n",
    "employee['Alice']['salary'] = 5000\n",
    "\n",
    "# Printing modified nested dictionary\n",
    "print(\"Modified nested dictionary:\", employee)\n"
   ]
  },
  {
   "cell_type": "markdown",
   "id": "b5213fac-6632-41b4-ae78-5965b8c91e7e",
   "metadata": {},
   "source": [
    "### if else"
   ]
  },
  {
   "cell_type": "code",
   "execution_count": 246,
   "id": "c264885d-1150-483b-9fd5-02bb5a383b03",
   "metadata": {},
   "outputs": [
    {
     "name": "stdout",
     "output_type": "stream",
     "text": [
      "x is less than 5\n"
     ]
    }
   ],
   "source": [
    "\n",
    "x = 3\n",
    "\n",
    "if x > 5:\n",
    "    print(\"x is greater than 5\")\n",
    "elif x == 5:\n",
    "    print(\"x is equal to 5\")\n",
    "else:\n",
    "    print(\"x is less than 5\")\n"
   ]
  },
  {
   "cell_type": "code",
   "execution_count": 247,
   "id": "b0d5bcce-c876-481d-a33e-fc64ac040bf1",
   "metadata": {},
   "outputs": [
    {
     "name": "stdout",
     "output_type": "stream",
     "text": [
      "Both x and y are greater than their respective thresholds\n"
     ]
    }
   ],
   "source": [
    "## nested if else\n",
    "x = 10\n",
    "y = 5\n",
    "\n",
    "if x > 5:\n",
    "    if y > 2:\n",
    "        print(\"Both x and y are greater than their respective thresholds\")\n",
    "    else:\n",
    "        print(\"x is greater than 5, but y is not greater than 2\")\n",
    "else:\n",
    "    print(\"x is not greater than 5\")\n"
   ]
  },
  {
   "cell_type": "code",
   "execution_count": 248,
   "id": "013d9125-7cd5-44d6-972a-f405377b22b7",
   "metadata": {},
   "outputs": [
    {
     "name": "stdout",
     "output_type": "stream",
     "text": [
      "x is greater than 5\n"
     ]
    }
   ],
   "source": [
    "# Ternary operator\n",
    "x = 10\n",
    "result = \"x is greater than 5\" if x > 5 else \"x is not greater than 5\"\n",
    "print(result)"
   ]
  },
  {
   "cell_type": "code",
   "execution_count": 249,
   "id": "36da8e86-22b9-42aa-9530-00b47389727a",
   "metadata": {},
   "outputs": [],
   "source": [
    "# pass statement\n",
    "x = 5 \n",
    "if x == 5:\n",
    "    pass"
   ]
  },
  {
   "cell_type": "markdown",
   "id": "a519ea33-3572-4a9f-b859-7fd95920d908",
   "metadata": {},
   "source": [
    "### Loops"
   ]
  },
  {
   "cell_type": "code",
   "execution_count": 250,
   "id": "3273b54a-f223-4947-8bd2-10340bc2b105",
   "metadata": {},
   "outputs": [
    {
     "name": "stdout",
     "output_type": "stream",
     "text": [
      "apple\n",
      "banana\n",
      "cherry\n"
     ]
    }
   ],
   "source": [
    "# Example of for loop\n",
    "fruits = [\"apple\", \"banana\", \"cherry\"]\n",
    "for fruit in fruits:\n",
    "    print(fruit)\n"
   ]
  },
  {
   "cell_type": "code",
   "execution_count": 251,
   "id": "be34a637-77c4-4f47-b6d6-f088fba3467a",
   "metadata": {},
   "outputs": [
    {
     "name": "stdout",
     "output_type": "stream",
     "text": [
      "1\n",
      "2\n",
      "3\n",
      "4\n",
      "5\n"
     ]
    }
   ],
   "source": [
    "# Example of while loop\n",
    "i = 1\n",
    "while i <= 5:\n",
    "    print(i)\n",
    "    i += 1\n"
   ]
  },
  {
   "cell_type": "code",
   "execution_count": 252,
   "id": "73361254-4a2f-446e-83c9-57cf884ce39f",
   "metadata": {},
   "outputs": [
    {
     "name": "stdout",
     "output_type": "stream",
     "text": [
      "1\n",
      "2\n",
      "4\n"
     ]
    }
   ],
   "source": [
    "# Example of loop control statements\n",
    "for i in range(1, 10):\n",
    "    if i == 5:\n",
    "        break  # terminates the loop if i equals 5\n",
    "    if i == 3:\n",
    "        continue  # skips the remaining code for i equals 3\n",
    "    print(i)\n"
   ]
  },
  {
   "cell_type": "code",
   "execution_count": 253,
   "id": "266b1881-63ad-4d99-b072-30ce9bf99e3d",
   "metadata": {},
   "outputs": [
    {
     "name": "stdout",
     "output_type": "stream",
     "text": [
      "1 * 1 = 1\n",
      "1 * 2 = 2\n",
      "1 * 3 = 3\n",
      "2 * 1 = 2\n",
      "2 * 2 = 4\n",
      "2 * 3 = 6\n",
      "3 * 1 = 3\n",
      "3 * 2 = 6\n",
      "3 * 3 = 9\n"
     ]
    }
   ],
   "source": [
    "# Example of nested loops\n",
    "for i in range(1, 4):\n",
    "    for j in range(1, 4):\n",
    "        print(f\"{i} * {j} = {i * j}\")"
   ]
  },
  {
   "cell_type": "code",
   "execution_count": 254,
   "id": "69f114ad-ee47-4ec7-a23d-72f71917631f",
   "metadata": {},
   "outputs": [
    {
     "name": "stdout",
     "output_type": "stream",
     "text": [
      "0\n",
      "1\n",
      "2\n",
      "3\n",
      "4\n",
      "Loop completed without breaking\n"
     ]
    }
   ],
   "source": [
    "# Example of loop with else block\n",
    "for i in range(5):\n",
    "    print(i)\n",
    "else:\n",
    "    print(\"Loop completed without breaking\")\n"
   ]
  },
  {
   "cell_type": "code",
   "execution_count": 256,
   "id": "c955f88a-fbac-444d-9ab0-c04c429b137f",
   "metadata": {},
   "outputs": [
    {
     "name": "stdout",
     "output_type": "stream",
     "text": [
      "G\n",
      "o\n",
      "w\n",
      "t\n",
      "h\n",
      "a\n",
      "m\n"
     ]
    }
   ],
   "source": [
    "for char in \"Gowtham\":\n",
    "  print(char)"
   ]
  },
  {
   "cell_type": "code",
   "execution_count": 260,
   "id": "c5402563-9489-49b9-90d8-d3cffae85ac4",
   "metadata": {},
   "outputs": [
    {
     "name": "stdout",
     "output_type": "stream",
     "text": [
      "0\n",
      "1\n",
      "2\n",
      "3\n",
      "4\n",
      "5\n",
      "6\n",
      "7\n",
      "8\n",
      "9\n",
      "10\n",
      "11\n",
      "12\n",
      "13\n",
      "14\n",
      "15\n",
      "16\n",
      "17\n",
      "18\n",
      "19\n",
      "20\n",
      "21\n",
      "22\n",
      "23\n",
      "24\n",
      "25\n",
      "26\n",
      "27\n",
      "28\n",
      "29\n"
     ]
    }
   ],
   "source": [
    "for x in range(0, 30):\n",
    "  print(x)"
   ]
  },
  {
   "cell_type": "code",
   "execution_count": 261,
   "id": "f0a500cc-8338-43da-8842-292125187511",
   "metadata": {},
   "outputs": [
    {
     "name": "stdout",
     "output_type": "stream",
     "text": [
      "0\n",
      "5\n",
      "10\n",
      "15\n",
      "20\n",
      "25\n"
     ]
    }
   ],
   "source": [
    "for x in range(0, 30, 5):\n",
    "  print(x)"
   ]
  },
  {
   "cell_type": "markdown",
   "id": "d6f69d2a-de80-4c63-8f23-4e5bef37aec6",
   "metadata": {},
   "source": [
    "### Functions"
   ]
  },
  {
   "cell_type": "code",
   "execution_count": 262,
   "id": "c180b07c-def9-4ca3-92e7-760e2b6c9024",
   "metadata": {},
   "outputs": [
    {
     "name": "stdout",
     "output_type": "stream",
     "text": [
      "Hello, welcome to Python!\n"
     ]
    }
   ],
   "source": [
    "# Function to greet\n",
    "def greet():\n",
    "    print(\"Hello, welcome to Python!\")\n",
    "\n",
    "# Calling the function\n",
    "greet()\n"
   ]
  },
  {
   "cell_type": "code",
   "execution_count": 263,
   "id": "25ac24c2-b2e8-4886-a6ac-27356bbb76d5",
   "metadata": {},
   "outputs": [
    {
     "name": "stdout",
     "output_type": "stream",
     "text": [
      "Hello, Alice\n",
      "Hello, Bob\n"
     ]
    }
   ],
   "source": [
    "# Function to greet with a name\n",
    "def greet(name):\n",
    "    print(\"Hello,\", name)\n",
    "\n",
    "# Calling the function with different names\n",
    "greet(\"Alice\")\n",
    "greet(\"Bob\")\n"
   ]
  },
  {
   "cell_type": "code",
   "execution_count": 265,
   "id": "3c43dfd9-ec1e-4970-b587-704f3a81292f",
   "metadata": {},
   "outputs": [
    {
     "name": "stdout",
     "output_type": "stream",
     "text": [
      "I am from Sweden\n",
      "I am from India\n",
      "I am from Norway\n",
      "I am from Brazil\n"
     ]
    }
   ],
   "source": [
    "# default country\n",
    "def greet(country=\"Norway\"):\n",
    "    print(\"I am from\", country)\n",
    "\n",
    "# Calling the function with different countries\n",
    "greet(\"Sweden\")\n",
    "greet(\"India\")\n",
    "greet()  # Using the default country\n",
    "greet(\"Brazil\")\n"
   ]
  },
  {
   "cell_type": "code",
   "execution_count": 276,
   "id": "7797dad8-29f1-4f5e-b085-eabb0c6dd3d5",
   "metadata": {},
   "outputs": [
    {
     "name": "stdout",
     "output_type": "stream",
     "text": [
      "The input name is :  Sivam\n"
     ]
    }
   ],
   "source": [
    "# Variable number of arguments\n",
    "def print_names(*names):\n",
    "    print(\"The input name is : \", names[1])\n",
    "\n",
    "# Calling the function with a list of fruits\n",
    "names = ['Gowtham', 'Sivam']\n",
    "print_names(*names)  # Unpacking the list as arguments\n"
   ]
  },
  {
   "cell_type": "code",
   "execution_count": 278,
   "id": "168a7d74-c6fe-4b7a-8393-13e9e544d845",
   "metadata": {},
   "outputs": [
    {
     "name": "stdout",
     "output_type": "stream",
     "text": [
      "Factorial of 5: 120\n"
     ]
    }
   ],
   "source": [
    "# Recursive function to calculate the factorial of a number\n",
    "def factorial(n):\n",
    "    if n == 0:\n",
    "        return 1\n",
    "    else:\n",
    "        return n * factorial(n-1)\n",
    "\n",
    "# Calling the recursive function and printing the result\n",
    "result = factorial(5)\n",
    "print(\"Factorial of 5:\", result)"
   ]
  },
  {
   "cell_type": "markdown",
   "id": "f5bf882b-1bce-4b80-be81-07e63690cfce",
   "metadata": {},
   "source": [
    "#### Lambda Functions"
   ]
  },
  {
   "cell_type": "code",
   "execution_count": 279,
   "id": "e30eca2e-0625-4e50-98e8-a3fac09acd2b",
   "metadata": {},
   "outputs": [
    {
     "name": "stdout",
     "output_type": "stream",
     "text": [
      "Square of 5: 25\n"
     ]
    }
   ],
   "source": [
    "# Lambda function to calculate the square of a number\n",
    "square = lambda x: x ** 2\n",
    "\n",
    "# Using the lambda function to calculate square\n",
    "result = square(5)\n",
    "print(\"Square of 5:\", result)\n"
   ]
  },
  {
   "cell_type": "code",
   "execution_count": 280,
   "id": "9aaf6af0-7220-4c05-a9a7-1c813478235e",
   "metadata": {},
   "outputs": [
    {
     "name": "stdout",
     "output_type": "stream",
     "text": [
      "Doubled numbers: [2, 4, 6, 8, 10]\n"
     ]
    }
   ],
   "source": [
    "# Using lambda function with map() to double each element in a list\n",
    "numbers = [1, 2, 3, 4, 5]\n",
    "doubled_numbers = list(map(lambda x: x * 2, numbers))\n",
    "print(\"Doubled numbers:\", doubled_numbers)\n"
   ]
  },
  {
   "cell_type": "code",
   "execution_count": 281,
   "id": "296c8be1-f0f5-42f5-a3d6-ff3159cd9c8f",
   "metadata": {},
   "outputs": [
    {
     "name": "stdout",
     "output_type": "stream",
     "text": [
      "Even numbers: [2, 4, 6, 8, 10]\n"
     ]
    }
   ],
   "source": [
    "# Using lambda function with filter() to filter even numbers from a list\n",
    "numbers = [1, 2, 3, 4, 5, 6, 7, 8, 9, 10]\n",
    "even_numbers = list(filter(lambda x: x % 2 == 0, numbers))\n",
    "print(\"Even numbers:\", even_numbers)"
   ]
  },
  {
   "cell_type": "code",
   "execution_count": 282,
   "id": "9e13b31c-2ab8-4bab-9ca2-544b3fc514d0",
   "metadata": {},
   "outputs": [
    {
     "name": "stdout",
     "output_type": "stream",
     "text": [
      "Sorted pairs based on the second element: [(2, 'a'), (1, 'b'), (3, 'c')]\n"
     ]
    }
   ],
   "source": [
    "# Using lambda function with sorted() to sort a list of tuples based on the second element\n",
    "pairs = [(1, 'b'), (2, 'a'), (3, 'c')]\n",
    "sorted_pairs = sorted(pairs, key=lambda x: x[1])\n",
    "print(\"Sorted pairs based on the second element:\", sorted_pairs)\n"
   ]
  },
  {
   "cell_type": "code",
   "execution_count": 283,
   "id": "ab0697e3-dc68-45c3-862a-bd79ef0b9223",
   "metadata": {},
   "outputs": [
    {
     "name": "stdout",
     "output_type": "stream",
     "text": [
      "Result: 10\n"
     ]
    }
   ],
   "source": [
    "def operation(x):\n",
    "    # Define a lambda function to double the input\n",
    "    double = lambda a: a * 2\n",
    "    # Double the input using the lambda function\n",
    "    result = double(x)\n",
    "    return result\n",
    "\n",
    "# Call the function with an argument\n",
    "print(\"Result:\", operation(5))\n"
   ]
  },
  {
   "cell_type": "code",
   "execution_count": null,
   "id": "733e90b1-c0ff-499c-a66b-c905a2116494",
   "metadata": {},
   "outputs": [],
   "source": []
  }
 ],
 "metadata": {
  "kernelspec": {
   "display_name": "Python 3 (ipykernel)",
   "language": "python",
   "name": "python3"
  },
  "language_info": {
   "codemirror_mode": {
    "name": "ipython",
    "version": 3
   },
   "file_extension": ".py",
   "mimetype": "text/x-python",
   "name": "python",
   "nbconvert_exporter": "python",
   "pygments_lexer": "ipython3",
   "version": "3.9.2"
  }
 },
 "nbformat": 4,
 "nbformat_minor": 5
}
